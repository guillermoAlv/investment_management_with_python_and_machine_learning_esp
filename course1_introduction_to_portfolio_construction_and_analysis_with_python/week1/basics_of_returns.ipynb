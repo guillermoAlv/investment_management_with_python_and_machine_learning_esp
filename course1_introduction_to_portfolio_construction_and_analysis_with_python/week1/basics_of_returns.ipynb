{
  "nbformat": 4,
  "nbformat_minor": 0,
  "metadata": {
    "colab": {
      "name": "basics_of_returns.ipynb",
      "provenance": [],
      "authorship_tag": "ABX9TyMIZPOvT8qNA3F/bygcc+Qd",
      "include_colab_link": true
    },
    "kernelspec": {
      "name": "python3",
      "display_name": "Python 3"
    }
  },
  "cells": [
    {
      "cell_type": "markdown",
      "metadata": {
        "id": "view-in-github",
        "colab_type": "text"
      },
      "source": [
        "<a href=\"https://colab.research.google.com/github/guillermoAlv/investment_management_with_python_and_machine_learning_esp/blob/main/course1_introduction_to_portfolio_construction_and_analysis_with_python/week1/basics_of_returns.ipynb\" target=\"_parent\"><img src=\"https://colab.research.google.com/assets/colab-badge.svg\" alt=\"Open In Colab\"/></a>"
      ]
    },
    {
      "cell_type": "code",
      "metadata": {
        "id": "vcTBvzGXRZCK"
      },
      "source": [
        "print(\"Hola\")\r\n",
        "print(\"Adios\")"
      ],
      "execution_count": null,
      "outputs": []
    }
  ]
}