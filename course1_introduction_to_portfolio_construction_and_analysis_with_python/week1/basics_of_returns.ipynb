{
  "nbformat": 4,
  "nbformat_minor": 0,
  "metadata": {
    "colab": {
      "name": "risk_adjusted_returns.ipynb",
      "provenance": [],
      "authorship_tag": "ABX9TyMVhiLeAV2v+fxnMNekfbOr",
      "include_colab_link": true
    },
    "kernelspec": {
      "name": "python3",
      "display_name": "Python 3"
    }
  },
  "cells": [
    {
      "cell_type": "markdown",
      "metadata": {
        "id": "view-in-github",
        "colab_type": "text"
      },
      "source": [
        "<a href=\"https://colab.research.google.com/github/guillermoAlv/investment_management_with_python_and_machine_learning_esp/blob/main/course1_introduction_to_portfolio_construction_and_analysis_with_python/week1/basics_of_returns.ipynb\" target=\"_parent\"><img src=\"https://colab.research.google.com/assets/colab-badge.svg\" alt=\"Open In Colab\"/></a>"
      ]
    },
    {
      "cell_type": "code",
      "metadata": {
        "id": "q3Du4WKi9GRi"
      },
      "source": [
        "!pip install pandas-datareader"
      ],
      "execution_count": null,
      "outputs": []
    },
    {
      "cell_type": "code",
      "metadata": {
        "id": "4bd0Iu8pTAbE"
      },
      "source": [
        "import pandas as pd\r\n",
        "import pandas_datareader as pdr"
      ],
      "execution_count": 5,
      "outputs": []
    },
    {
      "cell_type": "code",
      "metadata": {
        "id": "sFOa62Kv83Mu"
      },
      "source": [
        "start_date = '2018-12-31'\r\n",
        "end_date = '2021-01-05'\r\n",
        "data=pdr.DataReader('GOOGL', 'yahoo', start_date, end_date)"
      ],
      "execution_count": null,
      "outputs": []
    },
    {
      "cell_type": "code",
      "metadata": {
        "id": "teZ0ZtqwBn3C"
      },
      "source": [
        ""
      ],
      "execution_count": null,
      "outputs": []
    }
  ]
}