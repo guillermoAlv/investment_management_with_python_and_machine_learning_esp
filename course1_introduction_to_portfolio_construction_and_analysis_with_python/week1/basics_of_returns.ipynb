{
  "nbformat": 4,
  "nbformat_minor": 0,
  "metadata": {
    "colab": {
      "name": "basics_of_returns.ipynb",
      "provenance": [],
      "authorship_tag": "ABX9TyMXGq5rFPieAzkkPJInc2lo",
      "include_colab_link": true
    },
    "kernelspec": {
      "name": "python3",
      "display_name": "Python 3"
    }
  },
  "cells": [
    {
      "cell_type": "markdown",
      "metadata": {
        "id": "view-in-github",
        "colab_type": "text"
      },
      "source": [
        "<a href=\"https://colab.research.google.com/github/guillermoAlv/investment_management_with_python_and_machine_learning_esp/blob/main/course1_introduction_to_portfolio_construction_and_analysis_with_python/week1/basics_of_returns.ipynb\" target=\"_parent\"><img src=\"https://colab.research.google.com/assets/colab-badge.svg\" alt=\"Open In Colab\"/></a>"
      ]
    },
    {
      "cell_type": "code",
      "metadata": {
        "id": "vcTBvzGXRZCK"
      },
      "source": [
        "import numpy as np\r\n",
        "import pandas as pd"
      ],
      "execution_count": 5,
      "outputs": []
    },
    {
      "cell_type": "code",
      "metadata": {
        "id": "K0HC3Q5iaojJ"
      },
      "source": [
        ""
      ],
      "execution_count": null,
      "outputs": []
    },
    {
      "cell_type": "markdown",
      "metadata": {
        "id": "17BsU_lkaov7"
      },
      "source": [
        "$R_{1,t+1}=\\frac{P_{t+1}-P{_t}}{P_t}$\r\n",
        "\r\n",
        "Or\r\n",
        "\r\n",
        "$R_{1,t+1}=\\frac{P_{t+1}}{P_t} - 1$"
      ]
    },
    {
      "cell_type": "markdown",
      "metadata": {
        "id": "iyVZdxgFbuPi"
      },
      "source": [
        "Supongamos que tenemos una secuencia de precios durante 3 dias consecutivos:"
      ]
    },
    {
      "cell_type": "code",
      "metadata": {
        "id": "a5fm20L_bbyz"
      },
      "source": [
        "prices_a = [8.7, 8.91, 8.71]"
      ],
      "execution_count": 1,
      "outputs": []
    },
    {
      "cell_type": "markdown",
      "metadata": {
        "id": "Nx-eLLXCb-bM"
      },
      "source": [
        "El retorno en el periodo entre el segundo y el primer dia será:"
      ]
    },
    {
      "cell_type": "code",
      "metadata": {
        "colab": {
          "base_uri": "https://localhost:8080/"
        },
        "id": "THb9SkQwb9nx",
        "outputId": "d8bc633c-fd05-4cd3-e064-5103debb54b4"
      },
      "source": [
        "8.91/8.7 - 1"
      ],
      "execution_count": 2,
      "outputs": [
        {
          "output_type": "execute_result",
          "data": {
            "text/plain": [
              "0.024137931034482918"
            ]
          },
          "metadata": {
            "tags": []
          },
          "execution_count": 2
        }
      ]
    },
    {
      "cell_type": "markdown",
      "metadata": {
        "id": "UUUqOL5GcRrg"
      },
      "source": [
        "Un retorno de **0.024** o lo que es lo mismo un **2,4%**"
      ]
    },
    {
      "cell_type": "markdown",
      "metadata": {
        "id": "sN2rc_w9cmax"
      },
      "source": [
        "El retorno entre el tercer y segundo dia será:"
      ]
    },
    {
      "cell_type": "code",
      "metadata": {
        "colab": {
          "base_uri": "https://localhost:8080/"
        },
        "id": "wdS6ItflcM1A",
        "outputId": "dd087443-9844-4643-9297-62e1452e0e67"
      },
      "source": [
        "8.71/8.91 - 1"
      ],
      "execution_count": 4,
      "outputs": [
        {
          "output_type": "execute_result",
          "data": {
            "text/plain": [
              "-0.022446689113355678"
            ]
          },
          "metadata": {
            "tags": []
          },
          "execution_count": 4
        }
      ]
    },
    {
      "cell_type": "markdown",
      "metadata": {
        "id": "xec0Hwy3c2cn"
      },
      "source": [
        "Un retorno de **-0.022** o lo que es lo mismo un **-2,2%**"
      ]
    },
    {
      "cell_type": "markdown",
      "metadata": {
        "id": "6s9EBa9PddP7"
      },
      "source": [
        "Ahora vamos a calcular al mismo tiempo los retornos a lo largo de cada periodo"
      ]
    },
    {
      "cell_type": "code",
      "metadata": {
        "id": "2ttXgqTpcwMh"
      },
      "source": [
        "prices_a_vctr = np.array(prices_a)"
      ],
      "execution_count": 6,
      "outputs": []
    },
    {
      "cell_type": "code",
      "metadata": {
        "colab": {
          "base_uri": "https://localhost:8080/"
        },
        "id": "NA2TsLE4dzCQ",
        "outputId": "588180e9-2c58-424e-ab10-f6721bc169e5"
      },
      "source": [
        "prices_a_vctr[1:]/prices_a_vctr[:-1] - 1"
      ],
      "execution_count": 7,
      "outputs": [
        {
          "output_type": "execute_result",
          "data": {
            "text/plain": [
              "array([ 0.02413793, -0.02244669])"
            ]
          },
          "metadata": {
            "tags": []
          },
          "execution_count": 7
        }
      ]
    },
    {
      "cell_type": "markdown",
      "metadata": {
        "id": "4O4rdg-beZc-"
      },
      "source": [
        "Ahora usaremos pandas para hacer estos calculos, crearemos un dataframe que simulará dos stocks y sus precios a lo largo de 5 periodos"
      ]
    },
    {
      "cell_type": "code",
      "metadata": {
        "id": "eHyVds8Ud6Nh"
      },
      "source": [
        "prices = pd.DataFrame({\"BLUE\":[8.7, 8.91, 8.71, 8.43, 8.73],\r\n",
        "                       \"ORANGE\":[10.66, 11.08, 10.71, 11.59, 12.11]})"
      ],
      "execution_count": 8,
      "outputs": []
    },
    {
      "cell_type": "code",
      "metadata": {
        "colab": {
          "base_uri": "https://localhost:8080/",
          "height": 204
        },
        "id": "oLAmHHLFfDok",
        "outputId": "d1b4a267-e570-404c-baab-f037b4c26305"
      },
      "source": [
        "prices"
      ],
      "execution_count": 9,
      "outputs": [
        {
          "output_type": "execute_result",
          "data": {
            "text/html": [
              "<div>\n",
              "<style scoped>\n",
              "    .dataframe tbody tr th:only-of-type {\n",
              "        vertical-align: middle;\n",
              "    }\n",
              "\n",
              "    .dataframe tbody tr th {\n",
              "        vertical-align: top;\n",
              "    }\n",
              "\n",
              "    .dataframe thead th {\n",
              "        text-align: right;\n",
              "    }\n",
              "</style>\n",
              "<table border=\"1\" class=\"dataframe\">\n",
              "  <thead>\n",
              "    <tr style=\"text-align: right;\">\n",
              "      <th></th>\n",
              "      <th>BLUE</th>\n",
              "      <th>ORANGE</th>\n",
              "    </tr>\n",
              "  </thead>\n",
              "  <tbody>\n",
              "    <tr>\n",
              "      <th>0</th>\n",
              "      <td>8.70</td>\n",
              "      <td>10.66</td>\n",
              "    </tr>\n",
              "    <tr>\n",
              "      <th>1</th>\n",
              "      <td>8.91</td>\n",
              "      <td>11.08</td>\n",
              "    </tr>\n",
              "    <tr>\n",
              "      <th>2</th>\n",
              "      <td>8.71</td>\n",
              "      <td>10.71</td>\n",
              "    </tr>\n",
              "    <tr>\n",
              "      <th>3</th>\n",
              "      <td>8.43</td>\n",
              "      <td>11.59</td>\n",
              "    </tr>\n",
              "    <tr>\n",
              "      <th>4</th>\n",
              "      <td>8.73</td>\n",
              "      <td>12.11</td>\n",
              "    </tr>\n",
              "  </tbody>\n",
              "</table>\n",
              "</div>"
            ],
            "text/plain": [
              "   BLUE  ORANGE\n",
              "0  8.70   10.66\n",
              "1  8.91   11.08\n",
              "2  8.71   10.71\n",
              "3  8.43   11.59\n",
              "4  8.73   12.11"
            ]
          },
          "metadata": {
            "tags": []
          },
          "execution_count": 9
        }
      ]
    },
    {
      "cell_type": "code",
      "metadata": {
        "colab": {
          "base_uri": "https://localhost:8080/",
          "height": 173
        },
        "id": "268xH7jGfEbk",
        "outputId": "682ee421-0d90-4192-d8cc-707fff808ee3"
      },
      "source": [
        "prices.iloc[1:].values / prices[:-1] - 1"
      ],
      "execution_count": 12,
      "outputs": [
        {
          "output_type": "execute_result",
          "data": {
            "text/html": [
              "<div>\n",
              "<style scoped>\n",
              "    .dataframe tbody tr th:only-of-type {\n",
              "        vertical-align: middle;\n",
              "    }\n",
              "\n",
              "    .dataframe tbody tr th {\n",
              "        vertical-align: top;\n",
              "    }\n",
              "\n",
              "    .dataframe thead th {\n",
              "        text-align: right;\n",
              "    }\n",
              "</style>\n",
              "<table border=\"1\" class=\"dataframe\">\n",
              "  <thead>\n",
              "    <tr style=\"text-align: right;\">\n",
              "      <th></th>\n",
              "      <th>BLUE</th>\n",
              "      <th>ORANGE</th>\n",
              "    </tr>\n",
              "  </thead>\n",
              "  <tbody>\n",
              "    <tr>\n",
              "      <th>0</th>\n",
              "      <td>0.024138</td>\n",
              "      <td>0.039400</td>\n",
              "    </tr>\n",
              "    <tr>\n",
              "      <th>1</th>\n",
              "      <td>-0.022447</td>\n",
              "      <td>-0.033394</td>\n",
              "    </tr>\n",
              "    <tr>\n",
              "      <th>2</th>\n",
              "      <td>-0.032147</td>\n",
              "      <td>0.082166</td>\n",
              "    </tr>\n",
              "    <tr>\n",
              "      <th>3</th>\n",
              "      <td>0.035587</td>\n",
              "      <td>0.044866</td>\n",
              "    </tr>\n",
              "  </tbody>\n",
              "</table>\n",
              "</div>"
            ],
            "text/plain": [
              "       BLUE    ORANGE\n",
              "0  0.024138  0.039400\n",
              "1 -0.022447 -0.033394\n",
              "2 -0.032147  0.082166\n",
              "3  0.035587  0.044866"
            ]
          },
          "metadata": {
            "tags": []
          },
          "execution_count": 12
        }
      ]
    },
    {
      "cell_type": "code",
      "metadata": {
        "colab": {
          "base_uri": "https://localhost:8080/",
          "height": 204
        },
        "id": "FbRQ1jaIfRwm",
        "outputId": "e081113a-e627-4edd-8995-bd3529b1cfc0"
      },
      "source": [
        "prices/prices.shift(1) - 1"
      ],
      "execution_count": 14,
      "outputs": [
        {
          "output_type": "execute_result",
          "data": {
            "text/html": [
              "<div>\n",
              "<style scoped>\n",
              "    .dataframe tbody tr th:only-of-type {\n",
              "        vertical-align: middle;\n",
              "    }\n",
              "\n",
              "    .dataframe tbody tr th {\n",
              "        vertical-align: top;\n",
              "    }\n",
              "\n",
              "    .dataframe thead th {\n",
              "        text-align: right;\n",
              "    }\n",
              "</style>\n",
              "<table border=\"1\" class=\"dataframe\">\n",
              "  <thead>\n",
              "    <tr style=\"text-align: right;\">\n",
              "      <th></th>\n",
              "      <th>BLUE</th>\n",
              "      <th>ORANGE</th>\n",
              "    </tr>\n",
              "  </thead>\n",
              "  <tbody>\n",
              "    <tr>\n",
              "      <th>0</th>\n",
              "      <td>NaN</td>\n",
              "      <td>NaN</td>\n",
              "    </tr>\n",
              "    <tr>\n",
              "      <th>1</th>\n",
              "      <td>0.024138</td>\n",
              "      <td>0.039400</td>\n",
              "    </tr>\n",
              "    <tr>\n",
              "      <th>2</th>\n",
              "      <td>-0.022447</td>\n",
              "      <td>-0.033394</td>\n",
              "    </tr>\n",
              "    <tr>\n",
              "      <th>3</th>\n",
              "      <td>-0.032147</td>\n",
              "      <td>0.082166</td>\n",
              "    </tr>\n",
              "    <tr>\n",
              "      <th>4</th>\n",
              "      <td>0.035587</td>\n",
              "      <td>0.044866</td>\n",
              "    </tr>\n",
              "  </tbody>\n",
              "</table>\n",
              "</div>"
            ],
            "text/plain": [
              "       BLUE    ORANGE\n",
              "0       NaN       NaN\n",
              "1  0.024138  0.039400\n",
              "2 -0.022447 -0.033394\n",
              "3 -0.032147  0.082166\n",
              "4  0.035587  0.044866"
            ]
          },
          "metadata": {
            "tags": []
          },
          "execution_count": 14
        }
      ]
    },
    {
      "cell_type": "code",
      "metadata": {
        "colab": {
          "base_uri": "https://localhost:8080/",
          "height": 204
        },
        "id": "s1nrznTOgAM1",
        "outputId": "2d4e194e-816b-479c-c1ec-3fb530189adc"
      },
      "source": [
        "prices.pct_change()"
      ],
      "execution_count": 15,
      "outputs": [
        {
          "output_type": "execute_result",
          "data": {
            "text/html": [
              "<div>\n",
              "<style scoped>\n",
              "    .dataframe tbody tr th:only-of-type {\n",
              "        vertical-align: middle;\n",
              "    }\n",
              "\n",
              "    .dataframe tbody tr th {\n",
              "        vertical-align: top;\n",
              "    }\n",
              "\n",
              "    .dataframe thead th {\n",
              "        text-align: right;\n",
              "    }\n",
              "</style>\n",
              "<table border=\"1\" class=\"dataframe\">\n",
              "  <thead>\n",
              "    <tr style=\"text-align: right;\">\n",
              "      <th></th>\n",
              "      <th>BLUE</th>\n",
              "      <th>ORANGE</th>\n",
              "    </tr>\n",
              "  </thead>\n",
              "  <tbody>\n",
              "    <tr>\n",
              "      <th>0</th>\n",
              "      <td>NaN</td>\n",
              "      <td>NaN</td>\n",
              "    </tr>\n",
              "    <tr>\n",
              "      <th>1</th>\n",
              "      <td>0.024138</td>\n",
              "      <td>0.039400</td>\n",
              "    </tr>\n",
              "    <tr>\n",
              "      <th>2</th>\n",
              "      <td>-0.022447</td>\n",
              "      <td>-0.033394</td>\n",
              "    </tr>\n",
              "    <tr>\n",
              "      <th>3</th>\n",
              "      <td>-0.032147</td>\n",
              "      <td>0.082166</td>\n",
              "    </tr>\n",
              "    <tr>\n",
              "      <th>4</th>\n",
              "      <td>0.035587</td>\n",
              "      <td>0.044866</td>\n",
              "    </tr>\n",
              "  </tbody>\n",
              "</table>\n",
              "</div>"
            ],
            "text/plain": [
              "       BLUE    ORANGE\n",
              "0       NaN       NaN\n",
              "1  0.024138  0.039400\n",
              "2 -0.022447 -0.033394\n",
              "3 -0.032147  0.082166\n",
              "4  0.035587  0.044866"
            ]
          },
          "metadata": {
            "tags": []
          },
          "execution_count": 15
        }
      ]
    },
    {
      "cell_type": "code",
      "metadata": {
        "id": "VVEpBzv1gNZl"
      },
      "source": [
        ""
      ],
      "execution_count": null,
      "outputs": []
    }
  ]
}